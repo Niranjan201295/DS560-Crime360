{
 "cells": [
  {
   "cell_type": "code",
   "execution_count": null,
   "id": "8e612da8",
   "metadata": {},
   "outputs": [],
   "source": [
    "!pip install miceforest"
   ]
  },
  {
   "cell_type": "code",
   "execution_count": 2,
   "id": "4c560668",
   "metadata": {},
   "outputs": [],
   "source": [
    "#Library Imports\n",
    "\n",
    "import pandas as pd\n",
    "import numpy as np\n",
    "import miceforest as mf"
   ]
  },
  {
   "cell_type": "code",
   "execution_count": 121,
   "id": "8b5d26f2",
   "metadata": {},
   "outputs": [],
   "source": [
    "#Functions\n",
    "\n",
    "#Read and combine datasets\n",
    "def read_data(path1,path2):\n",
    "    \"\"\"\n",
    "    Parameters:\n",
    "    path1 (str): file path of first csv file.\n",
    "    path2 (str): file path of second csv file.\n",
    "\n",
    "    Returns:\n",
    "    pandas.DataFrame: combined dataframe of both csv files.\n",
    "    \"\"\"\n",
    "    df1 = pd.read_csv(path1) #crime data from 2010 to 2019\n",
    "    df2 = pd.read_csv(path2) # crime data from 2022\n",
    "    df1.rename(columns = {'AREA ':'AREA'},inplace=True)\n",
    "    df = pd.concat([df1,df2])\n",
    "    return df\n",
    "\n",
    "#Dropping columns with more than 60% NaN values\n",
    "def drop_columns(df,dropped_columns):\n",
    "    \"\"\"\n",
    "    Parameters:\n",
    "    df (pandas.DataFrame): dataframe containing data.\n",
    "    dropped_columns (list): list of column names to be dropped.\n",
    "\n",
    "    Returns:\n",
    "    pandas.DataFrame: dataframe with specified columns removed.\n",
    "    \"\"\"\n",
    "\n",
    "    df = df.drop(dropped_columns,axis=1)\n",
    "    return df\n",
    "\n",
    "#Preprocessing the datatime columns\n",
    "def preprocess_datetime(df,column_name):\n",
    "    \"\"\"\n",
    "    Parameters:\n",
    "    df (pandas.DataFrame): dataframe containing data.\n",
    "    column_name (str): name of column to be converted to datetime.\n",
    "\n",
    "    Returns:\n",
    "    pandas.DataFrame: dataframe with specified column converted to datetime format.\n",
    "    \"\"\"\n",
    "\n",
    "    df[column_name] = pd.to_datetime(df[column_name],infer_datetime_format=True)\n",
    "    return df\n",
    "\n",
    "#Padding the time occured column\n",
    "def pad_time(df):\n",
    "    \"\"\"\n",
    "    Parameters:\n",
    "    df (pandas.DataFrame): dataframe containing data.\n",
    "\n",
    "    Returns:\n",
    "    pandas.DataFrame: dataframe with 'TIME OCC' column padded with leading zeros.\n",
    "    \"\"\"\n",
    "\n",
    "    df['TIME OCC'] = df['TIME OCC'].astype(str).str.zfill(4)\n",
    "    return df\n",
    "\n",
    "#Data Imputation\n",
    "def impute_data(df):\n",
    "    \"\"\"\n",
    "    Parameters:\n",
    "    df (pandas.DataFrame): dataframe containing data.\n",
    "\n",
    "    Returns:\n",
    "    pandas.DataFrame: dataframe with imputed data.\n",
    "    \"\"\"\n",
    "\n",
    "    df_impute = pd.DataFrame(df[['AREA','Rpt Dist No','Crm Cd','Vict Age','Vict Sex','Vict Descent','Premis Cd','Status']])\n",
    "    df_impute['Vict Sex'] = df_impute['Vict Sex'].astype('category')\n",
    "    df_impute['Vict Descent'] = df_impute['Vict Descent'].astype('category')\n",
    "    df_impute['Status'] = df_impute['Status'].astype('category')\n",
    "    kernel = mf.ImputationKernel(\n",
    "    data=df_impute,\n",
    "    save_all_iterations=True,\n",
    "    random_state=1991\n",
    "    )\n",
    "    kernel.mice(3,verbose=True)\n",
    "    complete_df = kernel.complete_data()\n",
    "    df['Status'] = complete_df['Status']\n",
    "    df['Premis Cd'] = complete_df['Premis Cd']\n",
    "    df['Vict Sex'] = complete_df['Vict Sex']\n",
    "    df['Vict Descent'] = complete_df['Vict Descent']\n",
    "    return df\n",
    "    \n",
    "    \n",
    "#Create lookup dictionary\n",
    "def create_lookup_dict(df, data, code):\n",
    "    \"\"\"\n",
    "    Parameters:\n",
    "    df (pandas.DataFrame): dataframe containing data.\n",
    "    data (str): column name containing data values.\n",
    "    code (str): column name containing code values.\n",
    "\n",
    "    Returns:\n",
    "    dict: dictionary with data values as keys and corresponding code values as values.\n",
    "    \"\"\"\n",
    "\n",
    "    lookup_dict = {}\n",
    "    for idx, row in df.iterrows():\n",
    "        if pd.isnull(row[data]):\n",
    "            if row[code] in lookup_dict:\n",
    "                lookup_dict[row[code]] = lookup_dict[row[code]]\n",
    "            else:\n",
    "                lookup_dict[row[code]] = row[code]\n",
    "        else:\n",
    "            lookup_dict[row[data]] = row[code]\n",
    "    return lookup_dict\n",
    "\n",
    "#Outlier treatement\n",
    "def remove_outliers(df):\n",
    "    \"\"\"\n",
    "    Parameters:\n",
    "    df (pandas.DataFrame): dataframe containing data.\n",
    "\n",
    "    Returns:\n",
    "    pandas.DataFrame: dataframe with outliers removed.\n",
    "    \"\"\"\n",
    "\n",
    "    df = df[df['Vict Age'] >= 0]\n",
    "    df = df[(df['LAT'] != 0) & (df['LON'] != 0)]\n",
    "    df = df[df['Vict Descent'] != '-']\n",
    "    df = df[(df['Vict Sex'] != '-') & (df['Vict Sex'] != 'H') & (df['Vict Sex'] != 'N')]\n",
    "    return df"
   ]
  },
  {
   "cell_type": "code",
   "execution_count": 4,
   "id": "43e68e42",
   "metadata": {},
   "outputs": [],
   "source": [
    "path1 = 'Crime_Data_from_2010_to_2019.csv'\n",
    "path2 = 'Crime_Data_from_2020_to_Present.csv'\n",
    "df = read_data(path1,path2)"
   ]
  },
  {
   "cell_type": "code",
   "execution_count": 5,
   "id": "9b38c392",
   "metadata": {},
   "outputs": [],
   "source": [
    "dropped_columns = ['Crm Cd 2','Crm Cd 3','Crm Cd 4','Cross Street','Mocodes','Weapon Desc','Weapon Used Cd']\n",
    "df = drop_columns(df,dropped_columns)"
   ]
  },
  {
   "cell_type": "code",
   "execution_count": 115,
   "id": "49239d0b",
   "metadata": {},
   "outputs": [],
   "source": [
    "df = preprocess_datetime(df,\"Date Rptd\")\n",
    "df = preprocess_datetime(df,\"DATE OCC\")\n",
    "df = pad_time(df)"
   ]
  },
  {
   "cell_type": "code",
   "execution_count": 92,
   "id": "4300d536",
   "metadata": {},
   "outputs": [],
   "source": [
    "crime_code_dict = create_lookup_dict(df, 'Crm Cd Desc', 'Crm Cd')\n",
    "premise_code_dict = create_lookup_dict(df,'Premis Desc','Premis Cd')\n",
    "premise_code_dict = {k: v for k, v in premise_code_dict.items() if not (pd.isna(k) and pd.isna(v))}\n",
    "status_code_dict = create_lookup_dict(df,'Status Desc','Status')\n",
    "area_code_dict = create_lookup_dict(df,'AREA NAME','AREA')"
   ]
  },
  {
   "cell_type": "code",
   "execution_count": 111,
   "id": "d6322a40",
   "metadata": {},
   "outputs": [],
   "source": [
    "df = remove_outliers(df)"
   ]
  },
  {
   "cell_type": "code",
   "execution_count": 80,
   "id": "45a421f9",
   "metadata": {},
   "outputs": [],
   "source": [
    "df = impute_data(df)"
   ]
  },
  {
   "cell_type": "code",
   "execution_count": 88,
   "id": "9cf106c8",
   "metadata": {},
   "outputs": [],
   "source": [
    "#Putting crimes into broad categories added to a column names 'Crime Categories'\n",
    "crime_mapping = {\n",
    "       'VIOLATION OF COURT ORDER':'Violation of court order',\n",
    "       'VANDALISM - FELONY ($400 & OVER, ALL CHURCH VANDALISMS)':'Vandalism',\n",
    "       'OTHER MISCELLANEOUS CRIME':'Other', 'RAPE, ATTEMPTED':'Sexual Misconduct',\n",
    "       'SHOPLIFTING - PETTY THEFT ($950 & UNDER)':'Shoplifting',\n",
    "       'BURGLARY FROM VEHICLE':'Burglary',\n",
    "       'ASSAULT WITH DEADLY WEAPON, AGGRAVATED ASSAULT':'Assault with Weapon',\n",
    "       'THEFT-GRAND ($950.01 & OVER)EXCPT,GUNS,FOWL,LIVESTK,PROD':'Theft',\n",
    "       'BATTERY - SIMPLE ASSAULT':'Assault', 'ROBBERY':'Robbery', 'BOMB SCARE':'Terrorism',\n",
    "       'CHILD NEGLECT (SEE 300 W.I.C.)':'Crimes against Children',\n",
    "       'INTIMATE PARTNER - AGGRAVATED ASSAULT':'Domestic Violence',\n",
    "       'INTIMATE PARTNER - SIMPLE ASSAULT':'Domestic Violence',\n",
    "       'THEFT PLAIN - PETTY ($950 & UNDER)':'Theft',\n",
    "       'CRIMINAL THREATS - NO WEAPON DISPLAYED':'Threats', 'ATTEMPTED ROBBERY':'Robbery',\n",
    "       'RAPE, FORCIBLE':'Sexual Misconduct', 'BRANDISH WEAPON':'Assault with Weapon',\n",
    "       'THROWING OBJECT AT MOVING VEHICLE':'Vandalism',\n",
    "       'SHOPLIFTING-GRAND THEFT ($950.01 & OVER)':'Shoplifting',\n",
    "       'CHILD ABUSE (PHYSICAL) - SIMPLE ASSAULT':'Crimes against Children',\n",
    "       'SHOTS FIRED AT INHABITED DWELLING':'Gun Crimes', 'VEHICLE - STOLEN':'Vehicle Theft',\n",
    "       'KIDNAPPING - GRAND ATTEMPT':'Kidnapping', 'CRIMINAL HOMICIDE':'Homicide',\n",
    "       'THEFT PLAIN - ATTEMPT':'Theft', 'THEFT, PERSON':'Theft', 'TRESPASSING':'Tresspassing',\n",
    "       'KIDNAPPING':'Kidnapping', 'VEHICLE - ATTEMPT STOLEN':'Vehicle Theft',\n",
    "       'BATTERY WITH SEXUAL CONTACT':'Sexual Misconduct', 'DOCUMENT FORGERY / STOLEN FELONY':'Forgery',\n",
    "       'BATTERY POLICE (SIMPLE)':'Battery',\n",
    "       'CHILD ABUSE (PHYSICAL) - AGGRAVATED ASSAULT':'Crimes against Children',\n",
    "       'DISTURBING THE PEACE':'Disorderly Conduct', 'OTHER ASSAULT':'Assault',\n",
    "       'VIOLATION OF RESTRAINING ORDER':'Violation of Restraining Order', 'LEWD CONDUCT':'Sexual Misconduct',\n",
    "       'CRM AGNST CHLD (13 OR UNDER) (14-15 & SUSP 10 YRS OLDER)':'Crimes against Children',\n",
    "       'THEFT OF IDENTITY':'Identity Theft',\n",
    "       'ASSAULT WITH DEADLY WEAPON ON POLICE OFFICER':'Assault with Weapon',\n",
    "       'CHILD ANNOYING (17YRS & UNDER)':'Crimes against Children',\n",
    "       'SODOMY/SEXUAL CONTACT B/W PENIS OF ONE PERS TO ANUS OTH':'Sexual Misconduct',\n",
    "       'ORAL COPULATION':'Sexual Misconduct', 'CRUELTY TO ANIMALS':'Crimes against Animals',\n",
    "       'THEFT FROM MOTOR VEHICLE - PETTY ($950 & UNDER)':'Theft',\n",
    "       'LETTERS, LEWD  -  TELEPHONE CALLS, LEWD':'Sexual Misconduct', 'PEEPING TOM':'Invasion of Privacy',\n",
    "       'INDECENT EXPOSURE':'Sexual Misconduct', 'BIKE - STOLEN':'Vehicle Theft',\n",
    "       'BURGLARY FROM VEHICLE, ATTEMPTED':'Burglary', 'BURGLARY, ATTEMPTED':'Burglary',\n",
    "       'STALKING':'Stalking', 'THREATENING PHONE CALLS/LETTERS':'Threats',\n",
    "       'SEX,UNLAWFUL(INC MUTUAL CONSENT, PENETRATION W/ FRGN OBJ':'Sexual Misconduct',\n",
    "       'BUNCO, PETTY THEFT':'Theft', 'BUNCO, GRAND THEFT':'Theft',\n",
    "       'VIOLATION OF TEMPORARY RESTRAINING ORDER':'Violation of Restraining Order',\n",
    "       'EMBEZZLEMENT, GRAND THEFT ($950.01 & OVER)':'Theft',\n",
    "       'SEXUAL PENETRATION W/FOREIGN OBJECT':'Sexual Misconduct', 'EXTORTION':'Extortion', 'PICKPOCKET':'Pickpocketing',\n",
    "       'EMBEZZLEMENT, PETTY THEFT ($950 & UNDER)':'Theft', 'PURSE SNATCHING':'Theft',\n",
    "       'WEAPONS POSSESSION/BOMBING':'Terrorism', 'COUNTERFEIT':'Financial Fraud', 'FALSE IMPRISONMENT':'Crimes against Personal Liberty',\n",
    "       'CREDIT CARDS, FRAUD USE ($950.01 & OVER)':'Financial Fraud',\n",
    "       'DISCHARGE FIREARMS/SHOTS FIRED':'Gun Crimes', 'THEFT FROM PERSON - ATTEMPT':'Theft',\n",
    "       'UNAUTHORIZED COMPUTER ACCESS':'Cyber Crime', 'PANDERING':'Sex Crimes', 'PIMPING':'Sex Crimes',\n",
    "       'DRUNK ROLL - ATTEMPT':'Robbery', 'SHOPLIFTING - ATTEMPT':'Shoplifing',\n",
    "       'RESISTING ARREST':'Resisting Arrest', 'DISHONEST EMPLOYEE - GRAND THEFT':'Theft',\n",
    "       'RECKLESS DRIVING':'Traffic Offence', 'PROWLER':'Property Crime',\n",
    "       'CREDIT CARDS, FRAUD USE ($950 & UNDER':'Financial Fraud',\n",
    "       'DOCUMENT WORTHLESS ($200.01 & OVER)':'White-Collar Crimes', 'CHILD STEALING':'Crimes against Children',\n",
    "       'CONTEMPT OF COURT':'Contemp of Court', 'CONSPIRACY':'Conspiracy',\n",
    "       'THEFT FROM MOTOR VEHICLE - ATTEMPT':'Theft', 'DRUNK ROLL':'Robbery',\n",
    "       'BATTERY ON A FIREFIGHTER':'Battery', 'ILLEGAL DUMPING':'Environmental Crime', 'LYNCHING':'Homicide',\n",
    "       'THEFT, COIN MACHINE - PETTY ($950 & UNDER)':'Theft',\n",
    "       'GRAND THEFT / INSURANCE FRAUD':'Theft', 'BUNCO, ATTEMPT':'Theft',\n",
    "       'DISRUPT SCHOOL':'Disorderly Conduct', 'THEFT, COIN MACHINE - GRAND ($950.01 & OVER)':'Theft',\n",
    "       'FALSE POLICE REPORT':'Criminal Offence', 'PURSE SNATCHING - ATTEMPT':'Theft',\n",
    "       'BOAT - STOLEN':'Theft',\n",
    "       'SHOTS FIRED AT MOVING VEHICLE, TRAIN OR AIRCRAFT':'Gun Crimes',\n",
    "       'DRIVING WITHOUT OWNER CONSENT (DWOC)':'Traffic Offence', 'CONTRIBUTING':'Contributing',\n",
    "       'FAILURE TO YIELD':'Traffic Offence', 'TILL TAP - ATTEMPT':'Theft', 'DRUGS, TO A MINOR':'Crimes against Children',\n",
    "       'INCITING A RIOT':'Disorderly Conduct',\n",
    "       'BEASTIALITY, CRIME AGAINST NATURE SEXUAL ASSLT WITH ANIM':'Sexual Misconduct',\n",
    "       'BRIBERY':'Bribery', 'THEFT FROM MOTOR VEHICLE - GRAND ($950.01 AND OVER)':'Theft',\n",
    "       'DEFRAUDING INNKEEPER/THEFT OF SERVICES, $950 & UNDER':'Theft',\n",
    "       'DEFRAUDING INNKEEPER/THEFT OF SERVICES, OVER $950.01':'Theft',\n",
    "       'TILL TAP - GRAND THEFT ($950.01 & OVER)':'Theft', 'LYNCHING - ATTEMPTED':'Homicide',\n",
    "       'SEX OFFENDER REGISTRANT OUT OF COMPLIANCE':'Sexual Misconduct', 'CHILD ABANDONMENT':'Crimes against Children',\n",
    "       'LEWD/LASCIVIOUS ACTS WITH CHILD':'Crimes against Children',\n",
    "       'DISHONEST EMPLOYEE - PETTY THEFT':'Theft', 'TELEPHONE PROPERTY - DAMAGE':'Vandalism',\n",
    "       'PICKPOCKET, ATTEMPT':'Pickpocketing', 'TILL TAP - PETTY ($950 & UNDER)':'Theft',\n",
    "       'DOCUMENT WORTHLESS ($200 & UNDER)':'White-Collar Crimes',\n",
    "       'HUMAN TRAFFICKING - COMMERCIAL SEX ACTS':'Sex Crimes',\n",
    "       'MANSLAUGHTER, NEGLIGENT':'Homicide', 'GRAND THEFT / AUTO REPAIR':'Theft', 'BIGAMY':'Bigamy',\n",
    "       'THEFT, COIN MACHINE - ATTEMPT':'Theft', 'PETTY THEFT - AUTO REPAIR':'Theft',\n",
    "       'BIKE - ATTEMPTED STOLEN':'Theft', 'FAILURE TO DISPERSE':'Disorderly Conduct',\n",
    "       'REPLICA FIREARMS(SALE,DISPLAY,MANUFACTURE OR DISTRIBUTE)':'Gun Crimes',\n",
    "       'HUMAN TRAFFICKING - INVOLUNTARY SERVITUDE':'Sex Crimes', 'CHILD PORNOGRAPHY':'Crimes against Children',\n",
    "       'ABORTION/ILLEGAL':'Abortion', 'INCEST (SEXUAL ACTS BETWEEN BLOOD RELATIVES)':'Sex Crimes',\n",
    "       'DISHONEST EMPLOYEE ATTEMPTED THEFT':'Theft', 'TRAIN WRECKING':'Sabotage',\n",
    "       'BLOCKING DOOR INDUCTION CENTER':'Disorderly Conduct',\n",
    "       'FIREARMS RESTRAINING ORDER (FIREARMS RO)':'Gun Crimes',\n",
    "       'VEHICLE - MOTORIZED SCOOTERS, BICYCLES, AND WHEELCHAIRS':'Vehicle Crimes',\n",
    "       'FIREARMS TEMPORARY RESTRAINING ORDER (TEMP FIREARMS RO)':'Gun Crimes',\n",
    "       'FIREARMS EMERGENCY PROTECTIVE ORDER (FIREARMS EPO)':'Gun Crimes',\n",
    "       'VANDALISM - MISDEAMEANOR ($399 OR UNDER)': 'Vandalism',\n",
    "       'BURGLARY': 'Burglary',\n",
    "        'ARSON': 'Arson'\n",
    "}\n",
    "\n",
    "descent_mapping = {\n",
    "    'A': 'Other Asian',\n",
    "    'B': 'Black',\n",
    "    'C': 'Chinese',\n",
    "    'D': 'Cambodian',\n",
    "    'F': 'Filipino',\n",
    "    'G': 'Guamanian',\n",
    "    'H': 'Hispanic/Latin/Mexican',\n",
    "    'I': 'American Indian/Alaskan Native',\n",
    "    'J': 'Japanese',\n",
    "    'K': 'Korean',\n",
    "    'L': 'Laotian',\n",
    "    'O': 'Other',\n",
    "    'P': 'Pacific Islander',\n",
    "    'S': 'Samoan',\n",
    "    'U': 'Hawaiian',\n",
    "    'V': 'Vietnamese',\n",
    "    'W': 'White',\n",
    "    'X': 'Unknown',\n",
    "    'Z': 'Asian Indian'\n",
    "}\n",
    "\n",
    "df['Crime Categories'] = df['Crm Cd Desc'].map(crime_mapping)\n",
    "df['Descent Categories'] = df['Vict Descent'].map(descent_mapping)"
   ]
  },
  {
   "cell_type": "code",
   "execution_count": 99,
   "id": "9bc3a1c6",
   "metadata": {},
   "outputs": [],
   "source": [
    "df = df.dropna()"
   ]
  },
  {
   "cell_type": "code",
   "execution_count": 122,
   "id": "773529ee",
   "metadata": {},
   "outputs": [],
   "source": [
    "df.to_csv('crime_data.csv',index=False)"
   ]
  },
  {
   "cell_type": "code",
   "execution_count": 129,
   "id": "a8991174",
   "metadata": {},
   "outputs": [
    {
     "data": {
      "text/plain": [
       "(2774864, 23)"
      ]
     },
     "execution_count": 129,
     "metadata": {},
     "output_type": "execute_result"
    }
   ],
   "source": [
    "df.shape"
   ]
  },
  {
   "cell_type": "code",
   "execution_count": 2,
   "id": "0c5f91a6",
   "metadata": {},
   "outputs": [],
   "source": [
    "df = pd.read_csv('crime_data.csv')"
   ]
  },
  {
   "cell_type": "code",
   "execution_count": 3,
   "id": "7abcfa54",
   "metadata": {},
   "outputs": [
    {
     "data": {
      "text/plain": [
       "(2774864, 23)"
      ]
     },
     "execution_count": 3,
     "metadata": {},
     "output_type": "execute_result"
    }
   ],
   "source": [
    "df.shape"
   ]
  },
  {
   "cell_type": "code",
   "execution_count": 5,
   "id": "52eca47f",
   "metadata": {},
   "outputs": [],
   "source": [
    "#changing column names"
   ]
  },
  {
   "cell_type": "code",
   "execution_count": 10,
   "id": "6bc50c11",
   "metadata": {},
   "outputs": [],
   "source": [
    "df = pd.read_csv('crime_data.csv')\n",
    "new_column_names = {'DR_NO':'DR_No','Date Rptd':'Date Reported','DATE OCC':'Date Occurred','TIME OCC':'Time Occurred','AREA':'Area','AREA NAME':'Area Name','Rpt Dist No':'Reporting District No','Crm Cd':'Crime Code','Crm Cd Desc':'Crime Description','Vict Age':'Victim Age','Vict Sex':'Victim Sex','Vict Descent':'Victim Descent','Premis Cd':'Premise Code','Premis Desc':'Premise Description','Status Desc':'Status Description','Crm Cd 1':'Crime Code 1','LOCATION':'Location','LAT':'Latitude','LON':'Longitude'}\n",
    "df = df.rename(columns=new_column_names)"
   ]
  },
  {
   "cell_type": "code",
   "execution_count": 11,
   "id": "e6786f7c",
   "metadata": {},
   "outputs": [],
   "source": [
    "df.to_csv('crime_data.csv')"
   ]
  },
  {
   "cell_type": "markdown",
   "id": "3e2a9212",
   "metadata": {},
   "source": [
    "#### Note: Crime Code is the same as Crime Code 1. One of them can be dropped."
   ]
  }
 ],
 "metadata": {
  "kernelspec": {
   "display_name": "Python 3 (ipykernel)",
   "language": "python",
   "name": "python3"
  },
  "language_info": {
   "codemirror_mode": {
    "name": "ipython",
    "version": 3
   },
   "file_extension": ".py",
   "mimetype": "text/x-python",
   "name": "python",
   "nbconvert_exporter": "python",
   "pygments_lexer": "ipython3",
   "version": "3.9.13"
  }
 },
 "nbformat": 4,
 "nbformat_minor": 5
}
