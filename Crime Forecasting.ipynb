{
 "cells": [
  {
   "cell_type": "code",
   "execution_count": 1,
   "id": "b4558361",
   "metadata": {},
   "outputs": [],
   "source": [
    "from IPython.core.interactiveshell import InteractiveShell\n",
    "InteractiveShell.ast_node_interactivity = \"all\"\n"
   ]
  },
  {
   "cell_type": "code",
   "execution_count": 2,
   "id": "1e5ff4c2",
   "metadata": {},
   "outputs": [],
   "source": [
    "import os\n",
    "import numpy as np\n",
    "import pandas as pd\n",
    "import datetime\n",
    "import sweetviz as sv\n",
    "import statsmodels.api as sm\n",
    "import pickle\n",
    "from statsmodels.graphics.tsaplots import plot_acf, plot_pacf\n",
    "import matplotlib.pyplot as plt\n",
    "from sklearn.metrics import mean_squared_error\n",
    "from statsmodels.tsa.statespace.sarimax import SARIMAX\n",
    "#from fbprophet import Prophet\n",
    "from sklearn.model_selection import train_test_split\n",
    "from sklearn.ensemble import RandomForestRegressor\n",
    "from sklearn.svm import SVR\n",
    "from xgboost import XGBRegressor\n",
    "from sklearn.model_selection import train_test_split, GridSearchCV, KFold\n",
    "from sklearn.metrics import mean_squared_error\n",
    "import operator\n",
    "from sklearn.metrics import mean_absolute_percentage_error, mean_squared_error\n",
    "from datetime import datetime, timedelta\n",
    "import itertools"
   ]
  },
  {
   "cell_type": "code",
   "execution_count": 3,
   "id": "682545a7",
   "metadata": {},
   "outputs": [],
   "source": [
    "def evaluateArimaModel(data, arima_order):\n",
    "    \"\"\"\n",
    "    Evaluate the performance of an ARIMA model on a given dataset.\n",
    "\n",
    "    Parameters:\n",
    "    -----------\n",
    "    data : pandas Series\n",
    "        The time series data to fit the ARIMA model on and evaluate its performance.\n",
    "    arima_order : tuple\n",
    "        The (p, d, q) order of the ARIMA model.\n",
    "\n",
    "    Returns:\n",
    "    --------\n",
    "    rmse : float\n",
    "        The root mean squared error (RMSE) of the model's predictions.\n",
    "    \"\"\"\n",
    "\n",
    "    # Split the data into training and testing sets\n",
    "    train_size = int(len(data) * 0.8)\n",
    "    train_data, test_data = data[0:train_size], data[train_size:]\n",
    "\n",
    "    # Fit the ARIMA model\n",
    "    model = sm.tsa.ARIMA(train_data, order=arima_order)\n",
    "    model_fit = model.fit()\n",
    "\n",
    "    # Make predictions on the test data\n",
    "    predictions = model_fit.forecast(steps=len(test_data))\n",
    "\n",
    "    # Calculate the RMSE of the predictions\n",
    "    rmse = np.sqrt(mean_squared_error(test_data, predictions))\n",
    "    mape = np.mean(np.abs((test_data - predictions) / test_data)) * 100\n",
    "\n",
    "    print(\"MAPE: \")\n",
    "    print(mape)\n",
    "\n",
    "    print(\"RMSE: \")\n",
    "    print(rmse)\n",
    "\n",
    "    return rmse\n"
   ]
  },
  {
   "cell_type": "code",
   "execution_count": 4,
   "id": "5051d6be",
   "metadata": {},
   "outputs": [],
   "source": [
    "def univariate_sarima(train_data, test_data, order, seasonal_order):\n",
    "    \"\"\"\n",
    "    Fits a univariate SARIMA model to the training data and forecasts the test data.\n",
    "\n",
    "    Parameters:\n",
    "    train_data (pd.DataFrame): The training data used to fit the model.\n",
    "    test_data (pd.DataFrame): The test data used to evaluate the model.\n",
    "    order (tuple): The (p,d,q) order of the ARIMA model.\n",
    "    seasonal_order (tuple): The (P,D,Q,s) order of the seasonal ARIMA model.\n",
    "\n",
    "    Returns:\n",
    "    fitted_model\n",
    "    \"\"\"\n",
    "    # Fit SARIMA model\n",
    "    model = SARIMAX(train_data[\"Number of Crimes\"], order=order, seasonal_order=seasonal_order,\n",
    "                    enforce_stationarity=False, enforce_invertibility=False)\n",
    "    fitted_model = model.fit()\n",
    "\n",
    "    # Forecast\n",
    "    y_pred_test = fitted_model.forecast(steps=len(test_data))\n",
    "    y_pred_train = fitted_model.predict(\n",
    "        start=train_data.index[0], end=train_data.index[-1])\n",
    "\n",
    "    # Evaluate performance\n",
    "    train_mse = mean_squared_error(\n",
    "        train_data[\"Number of Crimes\"], y_pred_train)\n",
    "    train_rmse = np.sqrt(train_mse)\n",
    "    train_mape = np.mean(np.abs(\n",
    "        (train_data[\"Number of Crimes\"] - y_pred_train) / train_data[\"Number of Crimes\"])) * 100\n",
    "\n",
    "    test_mse = mean_squared_error(test_data[\"Number of Crimes\"], y_pred_test)\n",
    "    test_rmse = np.sqrt(test_mse)\n",
    "    test_mape = np.mean(np.abs(\n",
    "        (test_data[\"Number of Crimes\"] - y_pred_test) / test_data[\"Number of Crimes\"])) * 100\n",
    "\n",
    "    print(\"SARIMA Model Performance:\")\n",
    "    print(\"Train Performance\")\n",
    "    print(\"RMSE:\", train_rmse)\n",
    "    print(\"MAPE:\", train_mape)\n",
    "\n",
    "    print(\"Test Performance:\")\n",
    "    print(\"RMSE:\", test_rmse)\n",
    "    print(\"MAPE:\", test_mape)\n",
    "\n",
    "    return fitted_model\n"
   ]
  },
  {
   "cell_type": "code",
   "execution_count": 5,
   "id": "64ef4538",
   "metadata": {},
   "outputs": [],
   "source": [
    "def buildArimaModel(train_data, p, d, q):\n",
    "    \"\"\"\n",
    "    Builds an ARIMA model for a univariate time series.\n",
    "\n",
    "    Args:\n",
    "        data (pd.Series): A univariate time series.\n",
    "        p (int): The order of the AR component.\n",
    "        d (int): The degree of differencing.\n",
    "        q (int): The order of the MA component.\n",
    "\n",
    "    Returns:\n",
    "        An ARIMA model trained on the input data.\n",
    "    \"\"\"\n",
    "    # Differencing the time series\n",
    "    diff_data = train_data.diff(periods=d).dropna()\n",
    "\n",
    "    # Building the ARIMA model\n",
    "    model = sm.tsa.ARIMA(diff_data, order=(p, d, q)).fit()\n",
    "\n",
    "    # #Forecast\n",
    "    # y_pred_test = model.forecast(steps=len(test_data))\n",
    "    # y_pred_train = model.predict(start=train_data.index[0], end=train_data.index[-1])\n",
    "\n",
    "    # # Evaluate performance\n",
    "    # train_mse = mean_squared_error(train_data[\"Number of Crimes\"], y_pred_train)\n",
    "    # train_rmse = np.sqrt(train_mse)\n",
    "    # train_mape = np.mean(np.abs((train_data[\"Number of Crimes\"] - y_pred_train) / train_data[\"Number of Crimes\"])) * 100\n",
    "\n",
    "    # test_mse = mean_squared_error(test_data[\"Number of Crimes\"], y_pred_test)\n",
    "    # test_rmse = np.sqrt(test_mse)\n",
    "    # test_mape = np.mean(np.abs((test_data[\"Number of Crimes\"] - y_pred_test) / test_data[\"Number of Crimes\"])) * 100\n",
    "\n",
    "    # print(\"ARIMA Model Performance:\")\n",
    "    # print(\"Train Performance\")\n",
    "    # print(\"RMSE:\", train_rmse)\n",
    "    # print(\"MAPE:\", train_mape)\n",
    "\n",
    "    # print(\"Test Performance:\")\n",
    "    # print(\"RMSE:\", test_rmse)\n",
    "    # print(\"MAPE:\", test_mape)\n",
    "\n",
    "    return model\n"
   ]
  },
  {
   "cell_type": "code",
   "execution_count": 6,
   "id": "32fe9b40",
   "metadata": {},
   "outputs": [],
   "source": [
    "def acfPacfPlots(data):\n",
    "    \"\"\"\n",
    "    Generates ACF and PACF plots for a given variable in a pandas DataFrame.\n",
    "\n",
    "    Parameters:\n",
    "        - data: pandas DataFrame containing the data\n",
    "        - variable_name: name of the variable to generate plots for\n",
    "\n",
    "    Returns:\n",
    "        None (displays the plots)\n",
    "    \"\"\"\n",
    "\n",
    "    # Extract the variable as a pandas Series\n",
    "    #series = data[variable_name]\n",
    "    crime_df_sorted = data.sort_values(\"DATE OCC\")\n",
    "    crime_univariate_df = crime_df_sorted.groupby(\"DATE OCC\").size()\n",
    "    crime_univariate_df.columns = [\"Number of Crimes\"]\n",
    "    crime_biweekly_df = crime_univariate_df.resample(\"14D\").sum().reset_index()\n",
    "    crime_biweekly_df.columns = [\"Date\", \"Number of Crimes\"]\n",
    "\n",
    "    # Create the ACF plot\n",
    "    fig, ax = plt.subplots(figsize=(10, 5))\n",
    "    plot_acf(crime_biweekly_df[\"Number of Crimes\"], ax=ax, lags=50)\n",
    "    ax.set_title(f\"Autocorrelation Function (ACF) for Number of Crimes\")\n",
    "    ax.set_xlabel(\"Lag\")\n",
    "    ax.set_ylabel(\"Autocorrelation\")\n",
    "    plt.show()\n",
    "\n",
    "    # Create the PACF plot\n",
    "    fig, ax = plt.subplots(figsize=(10, 5))\n",
    "    plot_pacf(crime_biweekly_df[\"Number of Crimes\"], ax=ax, lags=50)\n",
    "    ax.set_title(\n",
    "        f\"Partial Autocorrelation Function (PACF) for Number of Crimes\")\n",
    "    ax.set_xlabel(\"Lag\")\n",
    "    ax.set_ylabel(\"Partial Autocorrelation\")\n",
    "    plt.show()\n"
   ]
  },
  {
   "cell_type": "code",
   "execution_count": 7,
   "id": "4f44163a",
   "metadata": {},
   "outputs": [],
   "source": [
    "def makeStationary(data, column_name):\n",
    "    \"\"\"\n",
    "    Make a time series stationary by removing trend and seasonality.\n",
    "\n",
    "    Parameters:\n",
    "    -----------\n",
    "    data : pandas Series\n",
    "        The time series data to make stationary.\n",
    "\n",
    "    column_name: column to make it stationary\n",
    "\n",
    "    Returns:\n",
    "    --------\n",
    "    stationary_data : pandas Series\n",
    "        The stationary time series data.\n",
    "    \"\"\"\n",
    "\n",
    "    # Remove trend by differencing\n",
    "    diff = data[column_name].diff().dropna()\n",
    "\n",
    "    # Remove seasonality by subtracting the rolling mean\n",
    "    window_size = 7  # Set the size of the rolling window\n",
    "    rolling_mean = diff.rolling(window_size).mean()  # Compute the rolling mean\n",
    "    # Subtract the rolling mean from the differenced data\n",
    "    stationary_data = diff - rolling_mean\n",
    "\n",
    "    return stationary_data\n"
   ]
  },
  {
   "cell_type": "code",
   "execution_count": 8,
   "id": "5ed12ad0",
   "metadata": {},
   "outputs": [],
   "source": [
    "def build_regression_model(df, dep_var, test_size, n_folds, param_grid, models=['RandomForest', 'SVR', 'XGBoost']):\n",
    "    # Separate independent variables from dependent variable\n",
    "    X = df.drop(dep_var, axis=1)\n",
    "    y = df[dep_var]\n",
    "\n",
    "    # Split data into train and test sets\n",
    "    X_train, X_test, y_train, y_test = train_test_split(\n",
    "        X, y, test_size=test_size)\n",
    "\n",
    "    # Define models to use\n",
    "    regressors = []\n",
    "    if 'RandomForest' in models:\n",
    "        regressors.append(RandomForestRegressor())\n",
    "    if 'SVR' in models:\n",
    "        regressors.append(SVR())\n",
    "    if 'XGBoost' in models:\n",
    "        regressors.append(XGBRegressor())\n",
    "\n",
    "    # Use K-Fold cross-validation to select best parameters for each model\n",
    "    best_models = []\n",
    "    for i in range(len(regressors)):\n",
    "        kf = KFold(n_splits=n_folds)\n",
    "        grid_search = GridSearchCV(\n",
    "            regressors[i], param_grid[models[i]], cv=kf, scoring='neg_mean_squared_error')\n",
    "        grid_search.fit(X_train, y_train)\n",
    "        best_models.append(grid_search.best_estimator_)\n",
    "\n",
    "    # Evaluate best models on test set\n",
    "    results = {}\n",
    "    for i, model in enumerate(best_models):\n",
    "        y_pred = model.predict(X_test)\n",
    "        rmse = mean_squared_error(y_test, y_pred, squared=False)\n",
    "        results[models[i]] = rmse\n",
    "\n",
    "    return results\n"
   ]
  },
  {
   "cell_type": "code",
   "execution_count": 9,
   "id": "0502068e",
   "metadata": {},
   "outputs": [],
   "source": [
    "def build_final_model(df, dep_var, test_size, n_folds, param_grid, models=['RandomForest', 'SVR', 'XGBoost']):\n",
    "    # Build models and get results\n",
    "    results = build_regression_model(\n",
    "        df, dep_var, test_size, n_folds, param_grid, models=models)\n",
    "\n",
    "    # split the data into training and validation sets\n",
    "    X_train, X_val, y_train, y_val = train_test_split(\n",
    "        df.drop(columns=[dep_var]),\n",
    "        df[dep_var],\n",
    "        test_size=test_size,  # use 80% of the data for training\n",
    "        random_state=42\n",
    "    )\n",
    "\n",
    "    # Get the best model\n",
    "    best_model = min(results.items(), key=operator.itemgetter(1))[0]\n",
    "\n",
    "    # Train the best model on the full dataset\n",
    "    if best_model == 'RandomForest':\n",
    "        model = RandomForestRegressor(\n",
    "            n_estimators=param_grid[best_model]['n_estimators'][0], max_depth=param_grid[best_model]['max_depth'][0])\n",
    "    elif best_model == 'SVR':\n",
    "        model = SVR(**param_grid[best_model])\n",
    "    elif best_model == 'XGBoost':\n",
    "        model = XGBRegressor(**param_grid[best_model])\n",
    "    model.fit(X_train, y_train)\n",
    "\n",
    "    return model\n"
   ]
  },
  {
   "cell_type": "code",
   "execution_count": 10,
   "id": "72473f7b",
   "metadata": {},
   "outputs": [],
   "source": [
    "def evaluate_model(model, df, dep_var, test_size):\n",
    "    # Separate independent variables from dependent variable\n",
    "    X = df.drop(dep_var, axis=1)\n",
    "    y = df[dep_var]\n",
    "\n",
    "    # Split data into train and test sets\n",
    "    X_train, X_test, y_train, y_test = train_test_split(\n",
    "        X, y, test_size=test_size)\n",
    "\n",
    "    # predict on train data\n",
    "    y_train_pred = model.predict(X_train)\n",
    "    # compute train metrics\n",
    "    mape_train = mean_absolute_percentage_error(y_train, y_train_pred)\n",
    "    mse_train = mean_squared_error(y_train, y_train_pred)\n",
    "\n",
    "    # predict on test data\n",
    "    y_test_pred = model.predict(X_test)\n",
    "    # compute test metrics\n",
    "    mape_test = mean_absolute_percentage_error(y_test, y_test_pred)\n",
    "    mse_test = mean_squared_error(y_test, y_test_pred)\n",
    "\n",
    "    print(f\"Train MAPE: {mape_train:.2f}%\")\n",
    "    print(f\"Test MAPE: {mape_test:.2f}%\")\n",
    "\n",
    "    print(f\"Train MSE: {mse_train:.2f}\")\n",
    "    print(f\"Test MSE: {mse_test:.2f}\")\n",
    "    # return metrics\n",
    "    return mape_train, mape_test, mse_train, mse_test\n"
   ]
  },
  {
   "cell_type": "code",
   "execution_count": 11,
   "id": "15bc51e6",
   "metadata": {},
   "outputs": [],
   "source": [
    "def getCrimeSplitbyArea(df, op_path):\n",
    "    # Group by area name and year and calculate number of crimes as percentage of year crimes\n",
    "    crime_area_df = df.copy()\n",
    "    crime_area_df[\"Year\"] = crime_area_df[\"DATE OCC\"].apply(\n",
    "        lambda x: x.split(\"-\")[0])\n",
    "    crime_area_df = crime_area_df.groupby([\"AREA NAME\", \"Year\"])[\n",
    "        \"DR_NO\"].count().reset_index()\n",
    "    crime_area_df[\"Total Crimes\"] = crime_area_df.groupby(\n",
    "        \"Year\")[\"DR_NO\"].transform(\"sum\")\n",
    "    crime_area_df[\"Percentage of Year Crimes\"] = crime_area_df[\"DR_NO\"] / \\\n",
    "        crime_area_df[\"Total Crimes\"]\n",
    "\n",
    "    # Group by area name and take average of percentage of year crimes\n",
    "    crime_area_df = crime_area_df.groupby(\n",
    "        \"AREA NAME\")[\"Percentage of Year Crimes\"].mean().reset_index()\n",
    "\n",
    "    # Save the data\n",
    "    os.chdir(op_path)\n",
    "    crime_area_df.to_csv(\"Crime per Area.csv\", index=False)\n",
    "\n",
    "    return crime_area_df\n"
   ]
  },
  {
   "cell_type": "code",
   "execution_count": 12,
   "id": "54b0209e",
   "metadata": {},
   "outputs": [],
   "source": [
    "def prepDataModel(df, technique, top_crimes):\n",
    "    if technique == \"Time Series\":\n",
    "        crime_to_model = df[df[\"Crime Categories\"].isin(top_crimes)]\n",
    "        crime_to_model[\"DATE OCC\"] = pd.to_datetime(crime_to_model[\"DATE OCC\"])\n",
    "\n",
    "    elif technique == \"Regression\":\n",
    "        # Group by \"Date occ, Area name, Victim - age, sex, descent, premis desc, crime categories\" and create number of crimes as count of dr_no\n",
    "        crime_reg_df = df.groupby([\"DATE OCC\", \"Vict Age\", \"Vict Sex\", \"Descent Categories\",\n",
    "                                  \"Premis Desc\", \"Crime Categories\"])[\"DR_NO\"].count().reset_index()\n",
    "        crime_reg_df.columns = [\"Date\", \"Victim Age\", \"Victim Sex\",\n",
    "                                \"Victim Descent\", \"Crime Location\", \"Crime Categories\", \"Number of Crimes\"]\n",
    "\n",
    "        # Filtering uncommon locations\n",
    "        location_crime = crime_reg_df[\"Crime Location\"].value_counts(\n",
    "        ).reset_index()\n",
    "        location_crime.columns = [\"Crime Location\", \"Number of Crimes\"]\n",
    "        location_crime = location_crime[location_crime[\"Number of Crimes\"] >= 5000]\n",
    "        locations_to_model = location_crime[\"Crime Location\"].to_list()\n",
    "\n",
    "        # Filtering uncommon crimes\n",
    "        crime_regression = crime_reg_df[crime_reg_df[\"Crime Categories\"].isin(\n",
    "            top_crimes)]\n",
    "        crime_regression = crime_regression[crime_regression[\"Crime Location\"].isin(\n",
    "            locations_to_model)]\n",
    "\n",
    "        # Grouping series by weekday and weekend\n",
    "        crime_regression[\"Date\"] = pd.to_datetime(crime_regression[\"Date\"])\n",
    "        crime_regression[\"Day Number\"] = crime_regression[\"Date\"].apply(\n",
    "            lambda x: 'Weekend' if x.weekday() >= 4 else 'Weekday')\n",
    "\n",
    "        # group by week and weekday\n",
    "        grouped = crime_regression.groupby([pd.Grouper(\n",
    "            key='Date', freq='7D'), 'Day Number', 'Crime Location', 'Crime Categories'])\n",
    "\n",
    "        # count the number of rows in each group\n",
    "        crime_to_model = grouped.agg({'Number of Crimes': 'sum'})\n",
    "\n",
    "        # Capping Number of crimes to 99th percentile values\n",
    "        crime_to_model = crime_to_model[crime_to_model[\"Number of Crimes\"]\n",
    "                                        <= crime_to_model[\"Number of Crimes\"].quantile(0.99)]\n",
    "        crime_to_model.reset_index(inplace=True)\n",
    "\n",
    "        # Create year and month from date\n",
    "        crime_to_model[\"Year\"] = crime_to_model[\"Date\"].dt.year\n",
    "        crime_to_model[\"Month\"] = crime_to_model[\"Date\"].dt.month\n",
    "\n",
    "        # Drop date column\n",
    "        crime_to_model.drop(\"Date\", axis=1, inplace=True)\n",
    "\n",
    "        # Create dummy variables for categorical variables\n",
    "        crime_to_model = pd.get_dummies(crime_to_model, columns=[\n",
    "                                        \"Day Number\", \"Crime Location\", \"Crime Categories\"], drop_first=True)\n",
    "\n",
    "    return crime_to_model\n"
   ]
  },
  {
   "cell_type": "code",
   "execution_count": 13,
   "id": "dfd747c7",
   "metadata": {},
   "outputs": [],
   "source": [
    "def performTimeSeries(crime_to_model, technique, top_crimes, test_size):\n",
    "    models = []\n",
    "    for crime in top_crimes:\n",
    "        print(\"*\"*50, sep=\"\")\n",
    "        print(crime)\n",
    "        crime_forecast_df = crime_to_model[crime_to_model[\"Crime Categories\"] == crime]\n",
    "        crime_df_sorted = crime_forecast_df.sort_values(\"DATE OCC\")\n",
    "        crime_univariate_df = crime_df_sorted.groupby(\"DATE OCC\").size()\n",
    "        crime_univariate_df.columns = [\"Number of Crimes\"]\n",
    "        crime_biweekly_df = crime_univariate_df.resample(\n",
    "            \"14D\").sum().reset_index()\n",
    "        crime_biweekly_df.columns = [\"Date\", \"Number of Crimes\"]\n",
    "\n",
    "        # calculate the index of the split point\n",
    "        split_index = int(len(crime_biweekly_df) * (1 - test_size))\n",
    "\n",
    "        # split the data into training and testing sets\n",
    "        train_data = crime_biweekly_df.iloc[:split_index]\n",
    "        test_data = crime_biweekly_df.iloc[split_index:]\n",
    "\n",
    "        if technique == \"ARIMA\":\n",
    "            model = buildArimaModel(\n",
    "                train_data[\"Number of Crimes\"], p=1, d=1, q=1)\n",
    "            print(\"Average Number of Crimes:\")\n",
    "            crime_biweekly_df[\"Number of Crimes\"].mean()\n",
    "            print(\"Evaluation for \", crime)\n",
    "            evaluateArimaModel(\n",
    "                crime_biweekly_df[\"Number of Crimes\"], (1, 1, 1))\n",
    "\n",
    "        elif technique == \"SARIMA\":\n",
    "            model = univariate_sarima(\n",
    "                train_data, test_data, (1, 1, 1), (1, 1, 1, 12))\n",
    "            print(\"Average Number of Crimes:\")\n",
    "            train_data[\"Number of Crimes\"].mean()\n",
    "\n",
    "        models.append(model)\n",
    "\n",
    "    return models\n"
   ]
  },
  {
   "cell_type": "code",
   "execution_count": 44,
   "id": "b792d381",
   "metadata": {},
   "outputs": [],
   "source": [
    "def getForecasts(df, num_days, dep_varname, top_crimes, crime_area_df, model, op_path):\n",
    "    final_cols = [\"DR_NO\", \"DATE OCC\", \"Vict Age\", \"Vict Sex\",\n",
    "                \"Descent Categories\", \"Premis Desc\", \"Crime Categories\"]\n",
    "    forecast_df = df[final_cols]\n",
    "    forecast_df = forecast_df.groupby([col for col in final_cols if col != dep_varname])[\n",
    "        dep_varname].count().reset_index()\n",
    "    forecast_df.columns = [\"Date\", \"Victim Age\", \"Victim Sex\", \"Victim Descent\",\n",
    "                        \"Crime Location\", \"Crime Categories\", \"Number of Crimes\"]\n",
    "\n",
    "    # Filtering uncommon locations\n",
    "    location_crime = forecast_df[\"Crime Location\"].value_counts().reset_index()\n",
    "    location_crime.columns = [\"Crime Location\", \"Number of Crimes\"]\n",
    "    location_crime = location_crime[location_crime[\"Number of Crimes\"] >= 5000]\n",
    "    locations_to_model = location_crime[\"Crime Location\"].to_list()\n",
    "\n",
    "    # Filtering uncommon crimes\n",
    "    crime_regression = forecast_df[forecast_df[\"Crime Categories\"].isin(\n",
    "        top_crimes)]\n",
    "    crime_regression = crime_regression[crime_regression[\"Crime Location\"].isin(\n",
    "        locations_to_model)]\n",
    "    crime_regression[\"Date\"] = pd.to_datetime(crime_regression[\"Date\"])\n",
    "\n",
    "    # Get the last date in the dataset\n",
    "    last_date = crime_regression[\"Date\"].max()\n",
    "\n",
    "    forecast_df = crime_regression.drop([\"Date\", \"Number of Crimes\"], axis = 1)\n",
    "    # get all unique values for each column\n",
    "    unique_values = [forecast_df[col].unique() for col in forecast_df.columns]\n",
    "\n",
    "    # use itertools.product to get all possible combinations\n",
    "    combinations = list(itertools.product(*unique_values))\n",
    "\n",
    "    # create a new dataframe with the combinations\n",
    "    forecast_df_combinations = pd.DataFrame(combinations, columns=forecast_df.columns)\n",
    "\n",
    "    # Create a dataframe with two weeks of data ahead of the latest day along with a combination of all the other columns\n",
    "    forecast_df = pd.DataFrame()\n",
    "    for i in range(1, 15):\n",
    "        temp_df = forecast_df_combinations.copy()\n",
    "        temp_df[\"Date\"] = last_date + timedelta(days=i)\n",
    "        forecast_df = pd.concat([forecast_df, temp_df], axis=0)\n",
    "\n",
    "    forecast_df[\"Dummy Column\"] = forecast_df.index\n",
    "\n",
    "    forecast_df[\"Day Number\"] = forecast_df[\"Date\"].apply(\n",
    "        lambda x: 'Weekend' if x.weekday() >= 4 else 'Weekday')\n",
    "\n",
    "    # group by week and weekday\n",
    "    grouped = forecast_df.groupby([pd.Grouper(\n",
    "        key='Date', freq='7D'), 'Day Number', 'Crime Location', 'Crime Categories'])\n",
    "\n",
    "    crime_to_model = grouped.agg({'Dummy Column': 'count'})\n",
    "    crime_to_model.reset_index(inplace=True)\n",
    "\n",
    "    # Create year and month from date\n",
    "    crime_to_model[\"Year\"] = crime_to_model[\"Date\"].dt.year\n",
    "    crime_to_model[\"Month\"] = crime_to_model[\"Date\"].dt.month\n",
    "\n",
    "    # Drop date column\n",
    "    crime_to_forecast = crime_to_model.drop(\"Date\", axis=1)\n",
    "    crime_to_forecast.drop(\"Dummy Column\", axis = 1, inplace = True)\n",
    "\n",
    "    # Create dummy variables for categorical variables\n",
    "    crime_to_forecast = pd.get_dummies(crime_to_forecast, columns=[\"Day Number\", \"Crime Location\", \"Crime Categories\"], drop_first=True)\n",
    "\n",
    "    #crime_to_forecast.drop(\"Number of Crimes\", axis=1, inplace=True)\n",
    "    #crime_to_model.drop(\"Number of Crimes\", axis=1, inplace=True)\n",
    "    crime_to_model[\"Predicted Crimes\"] = model.predict(crime_to_forecast)\n",
    "    crime_by_day = crime_to_model.groupby(\"Date\")[\"Predicted Crimes\"].sum().reset_index()\n",
    "\n",
    "    area_date_forecast = pd.merge(crime_by_day.assign(key=1), crime_area_df.assign(key=1), on='key').drop('key', axis=1)\n",
    "\n",
    "    # set 'date', 'area', and 'location' as the primary key\n",
    "    area_date_forecast.set_index(['Date', 'Predicted Crimes', 'AREA NAME'], inplace=True)\n",
    "\n",
    "    area_date_forecast.reset_index(inplace=True)\n",
    "    area_date_forecast[\"Number of Predicted Crimes\"] = area_date_forecast[\"Predicted Crimes\"] * area_date_forecast[\"Percentage of Year Crimes\"]\n",
    "    area_date_forecast.drop([\"Predicted Crimes\", \"Percentage of Year Crimes\"], axis=1, inplace=True)\n",
    "\n",
    "    area_date_forecast.reset_index(inplace=True)\n",
    "    os.chdir(op_path)\n",
    "    area_date_forecast.to_csv(\"LA_area_date_forecast.csv\", index=False)\n",
    "    crime_to_model.to_csv(\"LA_crime_preds.csv\", index=False)\n",
    "\n",
    "    return area_date_forecast, crime_to_model"
   ]
  },
  {
   "cell_type": "code",
   "execution_count": 14,
   "id": "9e0aa255",
   "metadata": {},
   "outputs": [],
   "source": [
    "ip_path = \"..//Processed Data//\"\n",
    "op_path = \"..//Models//\"\n"
   ]
  },
  {
   "cell_type": "code",
   "execution_count": 15,
   "id": "dec39cef",
   "metadata": {},
   "outputs": [],
   "source": [
    "os.chdir(ip_path)\n",
    "crime_df = pd.read_csv(\"Crime Data Pre-Processed.csv\")\n"
   ]
  },
  {
   "cell_type": "code",
   "execution_count": 16,
   "id": "71abc3d6",
   "metadata": {},
   "outputs": [],
   "source": [
    "# This will be used post forecasts\n",
    "crime_by_area_df = getCrimeSplitbyArea(crime_df, op_path)\n"
   ]
  },
  {
   "cell_type": "code",
   "execution_count": 17,
   "id": "a4aa6b99",
   "metadata": {},
   "outputs": [],
   "source": [
    "top_80pct_crimes = [\"Theft\",\n",
    "                    \"Burglary\",\n",
    "                    \"Vandalism\",\n",
    "                    \"Vehicle Theft\",\n",
    "                    \"Assault\",\n",
    "                    \"Domestic Violence\",\n",
    "                    \"Identity Theft\",\n",
    "                    \"Assault with Weapon\",\n",
    "                    \"Robbery\",\n",
    "                    \"Sexual Misconduct\",\n",
    "                    \"Threats\"]\n"
   ]
  },
  {
   "cell_type": "code",
   "execution_count": 41,
   "id": "b7aec348",
   "metadata": {},
   "outputs": [
    {
     "name": "stderr",
     "output_type": "stream",
     "text": [
      "C:\\Users\\nirun\\AppData\\Local\\Temp/ipykernel_38724/1661271838.py:4: SettingWithCopyWarning: \n",
      "A value is trying to be set on a copy of a slice from a DataFrame.\n",
      "Try using .loc[row_indexer,col_indexer] = value instead\n",
      "\n",
      "See the caveats in the documentation: https://pandas.pydata.org/pandas-docs/stable/user_guide/indexing.html#returning-a-view-versus-a-copy\n",
      "  crime_to_model[\"DATE OCC\"] = pd.to_datetime(crime_to_model[\"DATE OCC\"])\n"
     ]
    }
   ],
   "source": [
    "crime_to_forecast = prepDataModel(crime_df, \"Time Series\", top_80pct_crimes)\n"
   ]
  },
  {
   "cell_type": "code",
   "execution_count": 19,
   "id": "264d5809",
   "metadata": {},
   "outputs": [
    {
     "data": {
      "image/png": "[encoded data removed]",
      "text/plain": [
       "<Figure size 720x360 with 1 Axes>"
      ]
     },
     "metadata": {
      "needs_background": "light"
     },
     "output_type": "display_data"
    },
    {
     "name": "stderr",
     "output_type": "stream",
     "text": [
      "c:\\Users\\nirun\\anaconda3\\lib\\site-packages\\statsmodels\\graphics\\tsaplots.py:348: FutureWarning: The default method 'yw' can produce PACF values outside of the [-1,1] interval. After 0.13, the default will change tounadjusted Yule-Walker ('ywm'). You can use this method now by setting method='ywm'.\n",
      "  warnings.warn(\n"
     ]
    },
    {
     "data": {
      "image/png": "[encoded data removed]",
      "text/plain": [
       "<Figure size 720x360 with 1 Axes>"
      ]
     },
     "metadata": {
      "needs_background": "light"
     },
     "output_type": "display_data"
    }
   ],
   "source": [
    "acfPacfPlots(crime_to_forecast)\n"
   ]
  },
  {
   "cell_type": "code",
   "execution_count": 20,
   "id": "6b6a3e7c",
   "metadata": {},
   "outputs": [
    {
     "name": "stdout",
     "output_type": "stream",
     "text": [
      "**************************************************\n",
      "Theft\n"
     ]
    },
    {
     "name": "stderr",
     "output_type": "stream",
     "text": [
      "c:\\Users\\nirun\\anaconda3\\lib\\site-packages\\statsmodels\\tsa\\base\\tsa_model.py:471: ValueWarning: An unsupported index was provided and will be ignored when e.g. forecasting.\n",
      "  self._init_dates(dates, freq)\n",
      "c:\\Users\\nirun\\anaconda3\\lib\\site-packages\\statsmodels\\tsa\\base\\tsa_model.py:471: ValueWarning: An unsupported index was provided and will be ignored when e.g. forecasting.\n",
      "  self._init_dates(dates, freq)\n",
      "c:\\Users\\nirun\\anaconda3\\lib\\site-packages\\statsmodels\\tsa\\base\\tsa_model.py:471: ValueWarning: An unsupported index was provided and will be ignored when e.g. forecasting.\n",
      "  self._init_dates(dates, freq)\n"
     ]
    },
    {
     "name": "stdout",
     "output_type": "stream",
     "text": [
      "Average Number of Crimes:\n",
      "Evaluation for  Theft\n",
      "MAPE: \n",
      "12.282844035372204\n",
      "RMSE: \n",
      "220.16178301991621\n",
      "**************************************************\n",
      "Burglary\n"
     ]
    },
    {
     "name": "stderr",
     "output_type": "stream",
     "text": [
      "c:\\Users\\nirun\\anaconda3\\lib\\site-packages\\statsmodels\\tsa\\base\\tsa_model.py:471: ValueWarning: An unsupported index was provided and will be ignored when e.g. forecasting.\n",
      "  self._init_dates(dates, freq)\n",
      "c:\\Users\\nirun\\anaconda3\\lib\\site-packages\\statsmodels\\tsa\\base\\tsa_model.py:471: ValueWarning: An unsupported index was provided and will be ignored when e.g. forecasting.\n",
      "  self._init_dates(dates, freq)\n",
      "c:\\Users\\nirun\\anaconda3\\lib\\site-packages\\statsmodels\\tsa\\base\\tsa_model.py:471: ValueWarning: An unsupported index was provided and will be ignored when e.g. forecasting.\n",
      "  self._init_dates(dates, freq)\n"
     ]
    },
    {
     "name": "stdout",
     "output_type": "stream",
     "text": [
      "Average Number of Crimes:\n",
      "Evaluation for  Burglary\n",
      "MAPE: \n",
      "14.966952249906432\n",
      "RMSE: \n",
      "175.35300422103225\n",
      "**************************************************\n",
      "Vandalism\n"
     ]
    },
    {
     "name": "stderr",
     "output_type": "stream",
     "text": [
      "c:\\Users\\nirun\\anaconda3\\lib\\site-packages\\statsmodels\\tsa\\base\\tsa_model.py:471: ValueWarning: An unsupported index was provided and will be ignored when e.g. forecasting.\n",
      "  self._init_dates(dates, freq)\n",
      "c:\\Users\\nirun\\anaconda3\\lib\\site-packages\\statsmodels\\tsa\\base\\tsa_model.py:471: ValueWarning: An unsupported index was provided and will be ignored when e.g. forecasting.\n",
      "  self._init_dates(dates, freq)\n",
      "c:\\Users\\nirun\\anaconda3\\lib\\site-packages\\statsmodels\\tsa\\base\\tsa_model.py:471: ValueWarning: An unsupported index was provided and will be ignored when e.g. forecasting.\n",
      "  self._init_dates(dates, freq)\n"
     ]
    },
    {
     "name": "stdout",
     "output_type": "stream",
     "text": [
      "Average Number of Crimes:\n",
      "Evaluation for  Vandalism\n",
      "MAPE: \n",
      "10.144846766278686\n",
      "RMSE: \n",
      "92.52069381648865\n",
      "**************************************************\n",
      "Vehicle Theft\n"
     ]
    },
    {
     "name": "stderr",
     "output_type": "stream",
     "text": [
      "c:\\Users\\nirun\\anaconda3\\lib\\site-packages\\statsmodels\\tsa\\base\\tsa_model.py:471: ValueWarning: An unsupported index was provided and will be ignored when e.g. forecasting.\n",
      "  self._init_dates(dates, freq)\n",
      "c:\\Users\\nirun\\anaconda3\\lib\\site-packages\\statsmodels\\tsa\\base\\tsa_model.py:471: ValueWarning: An unsupported index was provided and will be ignored when e.g. forecasting.\n",
      "  self._init_dates(dates, freq)\n",
      "c:\\Users\\nirun\\anaconda3\\lib\\site-packages\\statsmodels\\tsa\\base\\tsa_model.py:471: ValueWarning: An unsupported index was provided and will be ignored when e.g. forecasting.\n",
      "  self._init_dates(dates, freq)\n"
     ]
    },
    {
     "name": "stdout",
     "output_type": "stream",
     "text": [
      "Average Number of Crimes:\n",
      "Evaluation for  Vehicle Theft\n",
      "MAPE: \n",
      "8.352568310877134\n",
      "RMSE: \n",
      "97.0871717391456\n",
      "**************************************************\n",
      "Assault\n"
     ]
    },
    {
     "name": "stderr",
     "output_type": "stream",
     "text": [
      "c:\\Users\\nirun\\anaconda3\\lib\\site-packages\\statsmodels\\tsa\\base\\tsa_model.py:471: ValueWarning: An unsupported index was provided and will be ignored when e.g. forecasting.\n",
      "  self._init_dates(dates, freq)\n",
      "c:\\Users\\nirun\\anaconda3\\lib\\site-packages\\statsmodels\\tsa\\base\\tsa_model.py:471: ValueWarning: An unsupported index was provided and will be ignored when e.g. forecasting.\n",
      "  self._init_dates(dates, freq)\n",
      "c:\\Users\\nirun\\anaconda3\\lib\\site-packages\\statsmodels\\tsa\\base\\tsa_model.py:471: ValueWarning: An unsupported index was provided and will be ignored when e.g. forecasting.\n",
      "  self._init_dates(dates, freq)\n"
     ]
    },
    {
     "name": "stdout",
     "output_type": "stream",
     "text": [
      "Average Number of Crimes:\n",
      "Evaluation for  Assault\n",
      "MAPE: \n",
      "10.66254729303675\n",
      "RMSE: \n",
      "83.41796734023343\n",
      "**************************************************\n",
      "Domestic Violence\n"
     ]
    },
    {
     "name": "stderr",
     "output_type": "stream",
     "text": [
      "c:\\Users\\nirun\\anaconda3\\lib\\site-packages\\statsmodels\\tsa\\base\\tsa_model.py:471: ValueWarning: An unsupported index was provided and will be ignored when e.g. forecasting.\n",
      "  self._init_dates(dates, freq)\n",
      "c:\\Users\\nirun\\anaconda3\\lib\\site-packages\\statsmodels\\tsa\\base\\tsa_model.py:471: ValueWarning: An unsupported index was provided and will be ignored when e.g. forecasting.\n",
      "  self._init_dates(dates, freq)\n",
      "c:\\Users\\nirun\\anaconda3\\lib\\site-packages\\statsmodels\\tsa\\base\\tsa_model.py:471: ValueWarning: An unsupported index was provided and will be ignored when e.g. forecasting.\n",
      "  self._init_dates(dates, freq)\n"
     ]
    },
    {
     "name": "stdout",
     "output_type": "stream",
     "text": [
      "Average Number of Crimes:\n",
      "Evaluation for  Domestic Violence\n",
      "MAPE: \n",
      "7.4412929659746805\n",
      "RMSE: \n",
      "47.87495755780401\n",
      "**************************************************\n",
      "Identity Theft\n"
     ]
    },
    {
     "name": "stderr",
     "output_type": "stream",
     "text": [
      "c:\\Users\\nirun\\anaconda3\\lib\\site-packages\\statsmodels\\tsa\\base\\tsa_model.py:471: ValueWarning: An unsupported index was provided and will be ignored when e.g. forecasting.\n",
      "  self._init_dates(dates, freq)\n",
      "c:\\Users\\nirun\\anaconda3\\lib\\site-packages\\statsmodels\\tsa\\base\\tsa_model.py:471: ValueWarning: An unsupported index was provided and will be ignored when e.g. forecasting.\n",
      "  self._init_dates(dates, freq)\n",
      "c:\\Users\\nirun\\anaconda3\\lib\\site-packages\\statsmodels\\tsa\\base\\tsa_model.py:471: ValueWarning: An unsupported index was provided and will be ignored when e.g. forecasting.\n",
      "  self._init_dates(dates, freq)\n"
     ]
    },
    {
     "name": "stdout",
     "output_type": "stream",
     "text": [
      "Average Number of Crimes:\n",
      "Evaluation for  Identity Theft\n",
      "MAPE: \n",
      "31.530046588128435\n",
      "RMSE: \n",
      "419.2190656986209\n",
      "**************************************************\n",
      "Assault with Weapon\n"
     ]
    },
    {
     "name": "stderr",
     "output_type": "stream",
     "text": [
      "c:\\Users\\nirun\\anaconda3\\lib\\site-packages\\statsmodels\\tsa\\base\\tsa_model.py:471: ValueWarning: An unsupported index was provided and will be ignored when e.g. forecasting.\n",
      "  self._init_dates(dates, freq)\n",
      "c:\\Users\\nirun\\anaconda3\\lib\\site-packages\\statsmodels\\tsa\\base\\tsa_model.py:471: ValueWarning: An unsupported index was provided and will be ignored when e.g. forecasting.\n",
      "  self._init_dates(dates, freq)\n",
      "c:\\Users\\nirun\\anaconda3\\lib\\site-packages\\statsmodels\\tsa\\base\\tsa_model.py:471: ValueWarning: An unsupported index was provided and will be ignored when e.g. forecasting.\n",
      "  self._init_dates(dates, freq)\n"
     ]
    },
    {
     "name": "stdout",
     "output_type": "stream",
     "text": [
      "Average Number of Crimes:\n",
      "Evaluation for  Assault with Weapon\n",
      "MAPE: \n",
      "10.23802824602416\n",
      "RMSE: \n",
      "73.741061232483\n",
      "**************************************************\n",
      "Robbery\n"
     ]
    },
    {
     "name": "stderr",
     "output_type": "stream",
     "text": [
      "c:\\Users\\nirun\\anaconda3\\lib\\site-packages\\statsmodels\\tsa\\base\\tsa_model.py:471: ValueWarning: An unsupported index was provided and will be ignored when e.g. forecasting.\n",
      "  self._init_dates(dates, freq)\n",
      "c:\\Users\\nirun\\anaconda3\\lib\\site-packages\\statsmodels\\tsa\\base\\tsa_model.py:471: ValueWarning: An unsupported index was provided and will be ignored when e.g. forecasting.\n",
      "  self._init_dates(dates, freq)\n",
      "c:\\Users\\nirun\\anaconda3\\lib\\site-packages\\statsmodels\\tsa\\base\\tsa_model.py:471: ValueWarning: An unsupported index was provided and will be ignored when e.g. forecasting.\n",
      "  self._init_dates(dates, freq)\n"
     ]
    },
    {
     "name": "stdout",
     "output_type": "stream",
     "text": [
      "Average Number of Crimes:\n",
      "Evaluation for  Robbery\n",
      "MAPE: \n",
      "11.967096455261391\n",
      "RMSE: \n",
      "48.57880470285467\n",
      "**************************************************\n",
      "Sexual Misconduct\n"
     ]
    },
    {
     "name": "stderr",
     "output_type": "stream",
     "text": [
      "c:\\Users\\nirun\\anaconda3\\lib\\site-packages\\statsmodels\\tsa\\base\\tsa_model.py:471: ValueWarning: An unsupported index was provided and will be ignored when e.g. forecasting.\n",
      "  self._init_dates(dates, freq)\n",
      "c:\\Users\\nirun\\anaconda3\\lib\\site-packages\\statsmodels\\tsa\\base\\tsa_model.py:471: ValueWarning: An unsupported index was provided and will be ignored when e.g. forecasting.\n",
      "  self._init_dates(dates, freq)\n",
      "c:\\Users\\nirun\\anaconda3\\lib\\site-packages\\statsmodels\\tsa\\base\\tsa_model.py:471: ValueWarning: An unsupported index was provided and will be ignored when e.g. forecasting.\n",
      "  self._init_dates(dates, freq)\n"
     ]
    },
    {
     "name": "stdout",
     "output_type": "stream",
     "text": [
      "Average Number of Crimes:\n",
      "Evaluation for  Sexual Misconduct\n",
      "MAPE: \n",
      "15.585419894719744\n",
      "RMSE: \n",
      "33.213870797641164\n",
      "**************************************************\n",
      "Threats\n",
      "Average Number of Crimes:\n",
      "Evaluation for  Threats\n",
      "MAPE: \n",
      "11.087741068772894\n",
      "RMSE: \n",
      "25.14078570229633\n"
     ]
    },
    {
     "name": "stderr",
     "output_type": "stream",
     "text": [
      "c:\\Users\\nirun\\anaconda3\\lib\\site-packages\\statsmodels\\tsa\\base\\tsa_model.py:471: ValueWarning: An unsupported index was provided and will be ignored when e.g. forecasting.\n",
      "  self._init_dates(dates, freq)\n",
      "c:\\Users\\nirun\\anaconda3\\lib\\site-packages\\statsmodels\\tsa\\base\\tsa_model.py:471: ValueWarning: An unsupported index was provided and will be ignored when e.g. forecasting.\n",
      "  self._init_dates(dates, freq)\n",
      "c:\\Users\\nirun\\anaconda3\\lib\\site-packages\\statsmodels\\tsa\\base\\tsa_model.py:471: ValueWarning: An unsupported index was provided and will be ignored when e.g. forecasting.\n",
      "  self._init_dates(dates, freq)\n"
     ]
    }
   ],
   "source": [
    "arima_models = performTimeSeries(\n",
    "    crime_to_forecast, \"ARIMA\", top_80pct_crimes, 0.2)\n"
   ]
  },
  {
   "cell_type": "code",
   "execution_count": 21,
   "id": "9e8d7c6a",
   "metadata": {},
   "outputs": [
    {
     "name": "stdout",
     "output_type": "stream",
     "text": [
      "**************************************************\n",
      "Theft\n",
      "SARIMA Model Performance:\n",
      "Train Performance\n",
      "RMSE: 123.67030560869948\n",
      "MAPE: 4.560754523763089\n",
      "Test Performance:\n",
      "RMSE: 202.53956892665116\n",
      "MAPE: 11.207701981508619\n",
      "Average Number of Crimes:\n",
      "**************************************************\n",
      "Burglary\n",
      "SARIMA Model Performance:\n",
      "Train Performance\n",
      "RMSE: 136.40865563507182\n",
      "MAPE: 6.1102836259682025\n",
      "Test Performance:\n",
      "RMSE: 166.59519463627606\n",
      "MAPE: 14.05390134886165\n",
      "Average Number of Crimes:\n",
      "**************************************************\n",
      "Vandalism\n",
      "SARIMA Model Performance:\n",
      "Train Performance\n",
      "RMSE: 78.50423478772122\n",
      "MAPE: 5.689521394765444\n",
      "Test Performance:\n",
      "RMSE: 94.7169204287283\n",
      "MAPE: 10.52616876947831\n",
      "Average Number of Crimes:\n",
      "**************************************************\n",
      "Vehicle Theft\n",
      "SARIMA Model Performance:\n",
      "Train Performance\n",
      "RMSE: 69.06583312949671\n",
      "MAPE: 6.371549246786308\n",
      "Test Performance:\n",
      "RMSE: 115.95096441290598\n",
      "MAPE: 10.101212051161173\n",
      "Average Number of Crimes:\n",
      "**************************************************\n",
      "Assault\n",
      "SARIMA Model Performance:\n",
      "Train Performance\n",
      "RMSE: 86.56013398647163\n",
      "MAPE: 7.021088887805102\n",
      "Test Performance:\n",
      "RMSE: 98.69788838459105\n",
      "MAPE: 12.008991773686741\n",
      "Average Number of Crimes:\n",
      "**************************************************\n",
      "Domestic Violence\n",
      "SARIMA Model Performance:\n",
      "Train Performance\n",
      "RMSE: 49.34352729211025\n",
      "MAPE: 7.314116611272205\n",
      "Test Performance:\n",
      "RMSE: 54.05956666288371\n",
      "MAPE: 8.211712616368228\n",
      "Average Number of Crimes:\n",
      "**************************************************\n",
      "Identity Theft\n",
      "SARIMA Model Performance:\n",
      "Train Performance\n",
      "RMSE: 184.78353434090286\n",
      "MAPE: 16.698200279838986\n",
      "Test Performance:\n",
      "RMSE: 443.60651481328557\n",
      "MAPE: 35.1035860306396\n",
      "Average Number of Crimes:\n",
      "**************************************************\n",
      "Assault with Weapon\n",
      "SARIMA Model Performance:\n",
      "Train Performance\n",
      "RMSE: 49.628286304456196\n",
      "MAPE: 8.310029482933821\n",
      "Test Performance:\n",
      "RMSE: 85.03735996305443\n",
      "MAPE: 11.20383447691515\n",
      "Average Number of Crimes:\n",
      "**************************************************\n",
      "Robbery\n",
      "SARIMA Model Performance:\n",
      "Train Performance\n",
      "RMSE: 45.11553733336683\n",
      "MAPE: 7.853585978337832\n",
      "Test Performance:\n",
      "RMSE: 69.90139627829474\n",
      "MAPE: 17.12798796907195\n",
      "Average Number of Crimes:\n",
      "**************************************************\n",
      "Sexual Misconduct\n",
      "SARIMA Model Performance:\n",
      "Train Performance\n",
      "RMSE: 53.059934290468476\n",
      "MAPE: 14.569270110326796\n",
      "Test Performance:\n",
      "RMSE: 33.065678868075736\n",
      "MAPE: 15.34433405291374\n",
      "Average Number of Crimes:\n",
      "**************************************************\n",
      "Threats\n",
      "SARIMA Model Performance:\n",
      "Train Performance\n",
      "RMSE: 31.824523199203615\n",
      "MAPE: 8.80598809168732\n",
      "Test Performance:\n",
      "RMSE: 42.38666226740639\n",
      "MAPE: 19.479736380244923\n",
      "Average Number of Crimes:\n"
     ]
    }
   ],
   "source": [
    "sarima_models = performTimeSeries(\n",
    "    crime_to_forecast, \"SARIMA\", top_80pct_crimes, 0.2)\n"
   ]
  },
  {
   "attachments": {},
   "cell_type": "markdown",
   "id": "688bae4d",
   "metadata": {},
   "source": [
    "### Regression"
   ]
  },
  {
   "cell_type": "code",
   "execution_count": 18,
   "id": "48ce0c0d",
   "metadata": {},
   "outputs": [],
   "source": [
    "crime_to_regress = prepDataModel(crime_df, \"Regression\", top_80pct_crimes)\n"
   ]
  },
  {
   "cell_type": "code",
   "execution_count": 19,
   "id": "70e5f492",
   "metadata": {},
   "outputs": [],
   "source": [
    "# set test data size, number of k-folds, and parameter grid\n",
    "test_size = 0.2\n",
    "n_folds = 5\n",
    "param_grid = {\n",
    "    'RandomForest': {'n_estimators': [500], 'max_depth': [10]}}\n"
   ]
  },
  {
   "cell_type": "code",
   "execution_count": 20,
   "id": "64d9c265",
   "metadata": {},
   "outputs": [],
   "source": [
    "model = build_final_model(crime_to_regress, 'Number of Crimes',\n",
    "                          test_size, n_folds, param_grid, models=['RandomForest'])\n"
   ]
  },
  {
   "cell_type": "code",
   "execution_count": 22,
   "id": "554d3449",
   "metadata": {},
   "outputs": [],
   "source": [
    "with open('Crime Forecasting Model.pkl', 'wb') as f:\n",
    "    pickle.dump(model, f)\n"
   ]
  },
  {
   "cell_type": "code",
   "execution_count": 18,
   "id": "095741b8",
   "metadata": {},
   "outputs": [],
   "source": [
    "with open('Crime Forecasting Model.pkl', 'rb') as f:\n",
    "    model = pickle.load(f)\n"
   ]
  },
  {
   "cell_type": "code",
   "execution_count": 25,
   "id": "afbeba2e",
   "metadata": {},
   "outputs": [
    {
     "name": "stdout",
     "output_type": "stream",
     "text": [
      "Train MAPE: 0.69%\n",
      "Test MAPE: 0.69%\n",
      "Train MSE: 16.06\n",
      "Test MSE: 15.98\n"
     ]
    }
   ],
   "source": [
    "mape_train, mape_test, mse_train, mse_test = evaluate_model(\n",
    "    model, crime_to_regress, 'Number of Crimes', 0.2)"
   ]
  },
  {
   "cell_type": "code",
   "execution_count": null,
   "id": "349acc06",
   "metadata": {},
   "outputs": [],
   "source": [
    "area_crime_preds, crime_preds = getForecasts(crime_df, 14, \"DR_NO\", top_80pct_crimes, crime_by_area_df, model, op_path)"
   ]
  }
 ],
 "metadata": {
  "kernelspec": {
   "display_name": "Python 3 (ipykernel)",
   "language": "python",
   "name": "python3"
  },
  "language_info": {
   "codemirror_mode": {
    "name": "ipython",
    "version": 3
   },
   "file_extension": ".py",
   "mimetype": "text/x-python",
   "name": "python",
   "nbconvert_exporter": "python",
   "pygments_lexer": "ipython3",
   "version": "3.9.7"
  }
 },
 "nbformat": 4,
 "nbformat_minor": 5
}
